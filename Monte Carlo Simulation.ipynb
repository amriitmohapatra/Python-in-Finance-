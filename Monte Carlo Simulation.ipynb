{
 "cells": [
  {
   "cell_type": "markdown",
   "id": "11948671-ce54-433b-ae85-77002a575a95",
   "metadata": {},
   "source": [
    "# Monte Carlo Simulation of a Financial Asset's Price"
   ]
  },
  {
   "cell_type": "markdown",
   "id": "ba9f9248-4f25-4f0a-9274-8cfdfc991148",
   "metadata": {},
   "source": [
    "In this code work, I have tried to incorporate the use of stochastic mathematics to forecast the prices of Polygon cryptocurrency (ticker = MATIC-USD) for a period of 6 months using the data from 12 May 2021 to 12 November 2021. \n",
    "\n",
    "This simulation is based on the assumption that the prices of cryptocurrencies (also stocks) show Standard Brownian Motion. The motion can be expressed in form of an equation:\n",
    "\n",
    "$$\n",
    "dS_t = S_t \\, \\mu \\, dt + S_t \\, \\sigma \\, dW_t\n",
    "$$\n",
    "\n",
    "where\n",
    "\n",
    "$$\n",
    "dW_t = \\epsilon \\sqrt{dt}\n",
    "$$\n",
    "\n",
    "is a component of the equation that shows randomness. If we are considering a small time interval $ \\Delta t $ , then the equation becomes:\n",
    "\n",
    "$$\n",
    "\\Delta S_t = S_t \\, \\mu \\, \\Delta t + S_t \\, \\sigma \\, \\Delta W_t\n",
    "$$\n",
    "\n",
    "If we divide the equation by $ S_t $, then:\n",
    "\n",
    "$$\n",
    "\\frac{\\Delta S_t}{S_t}  = \\, \\mu \\, \\Delta t + \\, \\sigma \\, \\Delta W_t\n",
    "$$\n",
    "\n"
   ]
  },
  {
   "cell_type": "markdown",
   "id": "1de56950-1a37-45a9-8196-2a63550ad82a",
   "metadata": {},
   "source": [
    "## For practical purposes\n",
    "\n",
    "We need to calculate two things, Drift and Volatility.\n",
    "\n",
    "Drift is represented by the equation:\n",
    "$$\n",
    "Drift = \\mu \\, - \\frac{1}{2}\\sigma^ 2\n",
    "$$\n",
    "\n",
    "Volatility is a random component and Python is used to generate that randomness. It is represented by:\n",
    "\n",
    "$$\n",
    "Volatility = \\sigma * Z(Rand(0;1))\n",
    "$$\n",
    "where Z is a random number that follows the Normal distribution and lies between 0 and 1. It is also known as Z-Score in statistics.\n",
    "\n",
    "By knowing these particulars, we can estimate the price of tomorrow based on today's price of the asset:\n",
    "$$\n",
    "P_{t+1} = P_t * e^{(\\mu \\, - \\frac{1}{2}\\sigma^ 2) + \\sigma * Z(Rand(0;1))}\n",
    "$$\n",
    "\n",
    "This process is repeated for n number of times, depending upon the number of days we need to forecast.\n",
    "\n",
    "### Note: \n",
    "### $ e^{(\\mu \\, - \\frac{1}{2}\\sigma^ 2) + \\sigma * Z(Rand(0;1))} $\n",
    "is the daily returns that we will be forecasting. This is identical to the continuous compounding concept.\n",
    "\n",
    "$ V_n = V_0 (e^\\theta)^n $ where $ V_0 $ is the starting amount, $ V_n $ is the final amount and rate of interest/return is $\\theta$.\n"
   ]
  },
  {
   "cell_type": "code",
   "execution_count": 3,
   "id": "83aa7acf-6e85-4be5-982c-309ec2c0011e",
   "metadata": {},
   "outputs": [
    {
     "name": "stdout",
     "output_type": "stream",
     "text": [
      "Requirement already satisfied: pandas_datareader in /opt/conda/lib/python3.9/site-packages (0.11.0.dev0+12.gab26ad2)\n",
      "Requirement already satisfied: pandas>=0.23 in /opt/conda/lib/python3.9/site-packages (from pandas_datareader) (1.3.5)\n",
      "Requirement already satisfied: requests>=2.19.0 in /opt/conda/lib/python3.9/site-packages (from pandas_datareader) (2.27.1)\n",
      "Requirement already satisfied: lxml in /opt/conda/lib/python3.9/site-packages (from pandas_datareader) (4.8.0)\n",
      "Requirement already satisfied: python-dateutil>=2.7.3 in /opt/conda/lib/python3.9/site-packages (from pandas>=0.23->pandas_datareader) (2.8.2)\n",
      "Requirement already satisfied: pytz>=2017.3 in /opt/conda/lib/python3.9/site-packages (from pandas>=0.23->pandas_datareader) (2021.3)\n",
      "Requirement already satisfied: numpy>=1.17.3 in /opt/conda/lib/python3.9/site-packages (from pandas>=0.23->pandas_datareader) (1.20.3)\n",
      "Requirement already satisfied: charset-normalizer~=2.0.0 in /opt/conda/lib/python3.9/site-packages (from requests>=2.19.0->pandas_datareader) (2.0.10)\n",
      "Requirement already satisfied: urllib3<1.27,>=1.21.1 in /opt/conda/lib/python3.9/site-packages (from requests>=2.19.0->pandas_datareader) (1.26.8)\n",
      "Requirement already satisfied: idna<4,>=2.5 in /opt/conda/lib/python3.9/site-packages (from requests>=2.19.0->pandas_datareader) (3.1)\n",
      "Requirement already satisfied: certifi>=2017.4.17 in /opt/conda/lib/python3.9/site-packages (from requests>=2.19.0->pandas_datareader) (2021.10.8)\n",
      "Requirement already satisfied: six>=1.5 in /opt/conda/lib/python3.9/site-packages (from python-dateutil>=2.7.3->pandas>=0.23->pandas_datareader) (1.16.0)\n"
     ]
    }
   ],
   "source": [
    "# pandas_datareader is used to import data directly from external websites and present as Pandas dataframe\n",
    "!pip install pandas_datareader"
   ]
  },
  {
   "cell_type": "code",
   "execution_count": 4,
   "id": "55c430af-db1f-4360-9fab-0e5dd76344c0",
   "metadata": {},
   "outputs": [],
   "source": [
    "#Importing all necessary libaries\n",
    "import numpy as np\n",
    "import pandas as pd\n",
    "from pandas_datareader import data as wb\n",
    "import matplotlib.pyplot as plt\n",
    "from scipy.stats import norm\n",
    "%matplotlib inline"
   ]
  },
  {
   "cell_type": "code",
   "execution_count": 5,
   "id": "3290fe70-ccf3-4e95-bcd8-cc303a11a424",
   "metadata": {},
   "outputs": [],
   "source": [
    "# In this code file, we will simulate the prices of Polygon cryptocurrency, hence we set that as our ticker\n",
    "ticker = 'MATIC-USD'\n",
    "data = pd.DataFrame()\n",
    "data[ticker] = wb.DataReader(ticker, data_source = 'yahoo', start = '2021-5-12', end = '2021-11-12')['Adj Close']"
   ]
  },
  {
   "cell_type": "markdown",
   "id": "ac2386e8-21f1-41f6-b172-f34762b90dd6",
   "metadata": {},
   "source": [
    "### Converting absolute Returns into Log Returns\n",
    "\n",
    "For r << 1, we can use the following approximation:\n",
    "$$\n",
    "log(1+r) \\approx r\n",
    "$$"
   ]
  },
  {
   "cell_type": "code",
   "execution_count": 6,
   "id": "65d52948-37fe-4db6-9b63-aaeaaee4ef4c",
   "metadata": {},
   "outputs": [],
   "source": [
    "# Pandas datareader has the ability to calculate for us daily abolsute percentage changes of the prices.\n",
    "# By using the approximation rule, we convert absolute returns into log returns.\n",
    "log_returns = np.log(1 + data.pct_change())"
   ]
  },
  {
   "cell_type": "code",
   "execution_count": 7,
   "id": "351a4ee2-9ae7-4f7a-be2b-4496d7fc812d",
   "metadata": {},
   "outputs": [
    {
     "data": {
      "text/html": [
       "<div>\n",
       "<style scoped>\n",
       "    .dataframe tbody tr th:only-of-type {\n",
       "        vertical-align: middle;\n",
       "    }\n",
       "\n",
       "    .dataframe tbody tr th {\n",
       "        vertical-align: top;\n",
       "    }\n",
       "\n",
       "    .dataframe thead th {\n",
       "        text-align: right;\n",
       "    }\n",
       "</style>\n",
       "<table border=\"1\" class=\"dataframe\">\n",
       "  <thead>\n",
       "    <tr style=\"text-align: right;\">\n",
       "      <th></th>\n",
       "      <th>MATIC-USD</th>\n",
       "    </tr>\n",
       "    <tr>\n",
       "      <th>Date</th>\n",
       "      <th></th>\n",
       "    </tr>\n",
       "  </thead>\n",
       "  <tbody>\n",
       "    <tr>\n",
       "      <th>2021-11-09</th>\n",
       "      <td>-0.064089</td>\n",
       "    </tr>\n",
       "    <tr>\n",
       "      <th>2021-11-10</th>\n",
       "      <td>-0.040677</td>\n",
       "    </tr>\n",
       "    <tr>\n",
       "      <th>2021-11-11</th>\n",
       "      <td>0.031103</td>\n",
       "    </tr>\n",
       "    <tr>\n",
       "      <th>2021-11-12</th>\n",
       "      <td>-0.025232</td>\n",
       "    </tr>\n",
       "    <tr>\n",
       "      <th>2021-11-13</th>\n",
       "      <td>0.022578</td>\n",
       "    </tr>\n",
       "  </tbody>\n",
       "</table>\n",
       "</div>"
      ],
      "text/plain": [
       "            MATIC-USD\n",
       "Date                 \n",
       "2021-11-09  -0.064089\n",
       "2021-11-10  -0.040677\n",
       "2021-11-11   0.031103\n",
       "2021-11-12  -0.025232\n",
       "2021-11-13   0.022578"
      ]
     },
     "execution_count": 7,
     "metadata": {},
     "output_type": "execute_result"
    }
   ],
   "source": [
    "log_returns.tail()"
   ]
  },
  {
   "cell_type": "code",
   "execution_count": 8,
   "id": "e53fe695-7652-4f20-8b16-b689304d84a3",
   "metadata": {},
   "outputs": [
    {
     "data": {
      "text/plain": [
       "<AxesSubplot:xlabel='Date'>"
      ]
     },
     "execution_count": 8,
     "metadata": {},
     "output_type": "execute_result"
    },
    {
     "data": {
      "image/png": "[encoded data removed]",
      "text/plain": [
       "<Figure size 1080x432 with 1 Axes>"
      ]
     },
     "metadata": {
      "needs_background": "light"
     },
     "output_type": "display_data"
    }
   ],
   "source": [
    "#Plot the closing prices of MATIC-USD.\n",
    "data.plot(figsize=(15,6))"
   ]
  },
  {
   "cell_type": "code",
   "execution_count": 9,
   "id": "0cfa22de-c952-4843-95a0-7ada5debc005",
   "metadata": {},
   "outputs": [
    {
     "data": {
      "text/plain": [
       "<AxesSubplot:xlabel='Date'>"
      ]
     },
     "execution_count": 9,
     "metadata": {},
     "output_type": "execute_result"
    },
    {
     "data": {
      "image/png": "[encoded data removed]",
      "text/plain": [
       "<Figure size 1080x432 with 1 Axes>"
      ]
     },
     "metadata": {
      "needs_background": "light"
     },
     "output_type": "display_data"
    }
   ],
   "source": [
    "#Plot the daily log returns of MATIC-USD.\n",
    "log_returns.plot(figsize = (15, 6))"
   ]
  },
  {
   "cell_type": "code",
   "execution_count": 10,
   "id": "c52c4351-8f7f-48cd-9d3d-31a608f0ffa2",
   "metadata": {},
   "outputs": [
    {
     "data": {
      "text/plain": [
       "MATIC-USD    0.002938\n",
       "dtype: float64"
      ]
     },
     "execution_count": 10,
     "metadata": {},
     "output_type": "execute_result"
    }
   ],
   "source": [
    "# Calculating the average daily mean of log returns of MATIC-USD. Note that we do not need to annualize this because\n",
    "# we are estimating daily returns for the next 180 days. \n",
    "u = log_returns.mean()\n",
    "u"
   ]
  },
  {
   "cell_type": "code",
   "execution_count": 11,
   "id": "41391d3e-c80a-4f82-bd70-b70301600ae9",
   "metadata": {},
   "outputs": [
    {
     "data": {
      "text/plain": [
       "MATIC-USD    0.008398\n",
       "dtype: float64"
      ]
     },
     "execution_count": 11,
     "metadata": {},
     "output_type": "execute_result"
    }
   ],
   "source": [
    "# Calculating the variance of daily returns of MATIC-USD\n",
    "var = log_returns.var()\n",
    "var"
   ]
  },
  {
   "cell_type": "code",
   "execution_count": 12,
   "id": "7e2a8c7e-1120-4189-86e3-3ca1443e2414",
   "metadata": {},
   "outputs": [
    {
     "data": {
      "text/plain": [
       "MATIC-USD   -0.001261\n",
       "dtype: float64"
      ]
     },
     "execution_count": 12,
     "metadata": {},
     "output_type": "execute_result"
    }
   ],
   "source": [
    "# Calculating the Drift\n",
    "drift = u - (0.5 * var)\n",
    "drift"
   ]
  },
  {
   "cell_type": "code",
   "execution_count": 13,
   "id": "e3a0fc20-d1e6-4de3-998b-23b4123c2726",
   "metadata": {},
   "outputs": [
    {
     "data": {
      "text/plain": [
       "MATIC-USD    0.091643\n",
       "dtype: float64"
      ]
     },
     "execution_count": 13,
     "metadata": {},
     "output_type": "execute_result"
    }
   ],
   "source": [
    "# Calculating the standard deviation of daily returns of MATIC-USD\n",
    "stdev = log_returns.std()\n",
    "stdev"
   ]
  },
  {
   "cell_type": "markdown",
   "id": "579f9d55-c2b8-4186-bd69-60ab70c6d728",
   "metadata": {},
   "source": [
    "### Note:\n",
    "We need to convert drift and stdev from Pandas Series to numpy arrays for further calculations."
   ]
  },
  {
   "cell_type": "code",
   "execution_count": 14,
   "id": "32c09055-fc0c-4bb3-b738-06dda22e3c01",
   "metadata": {},
   "outputs": [
    {
     "data": {
      "text/plain": [
       "pandas.core.series.Series"
      ]
     },
     "execution_count": 14,
     "metadata": {},
     "output_type": "execute_result"
    }
   ],
   "source": [
    "type(drift)"
   ]
  },
  {
   "cell_type": "code",
   "execution_count": 15,
   "id": "24d36dd6-8cb2-4702-8a8a-c90ebfff08cf",
   "metadata": {},
   "outputs": [
    {
     "data": {
      "text/plain": [
       "pandas.core.series.Series"
      ]
     },
     "execution_count": 15,
     "metadata": {},
     "output_type": "execute_result"
    }
   ],
   "source": [
    "type(stdev)"
   ]
  },
  {
   "cell_type": "code",
   "execution_count": 16,
   "id": "a9745611-66c1-44f5-a2ec-2a08985aa423",
   "metadata": {},
   "outputs": [
    {
     "data": {
      "text/plain": [
       "array([-0.00126101])"
      ]
     },
     "execution_count": 16,
     "metadata": {},
     "output_type": "execute_result"
    }
   ],
   "source": [
    "np.array(drift)"
   ]
  },
  {
   "cell_type": "code",
   "execution_count": 17,
   "id": "f178430e-ae7e-46bc-aa8b-dd84d3ec164d",
   "metadata": {},
   "outputs": [
    {
     "data": {
      "text/plain": [
       "array([-0.00126101])"
      ]
     },
     "execution_count": 17,
     "metadata": {},
     "output_type": "execute_result"
    }
   ],
   "source": [
    "drift.values"
   ]
  },
  {
   "cell_type": "code",
   "execution_count": 18,
   "id": "aeede8f7-1804-492b-a06b-1505b95107dc",
   "metadata": {},
   "outputs": [
    {
     "data": {
      "text/plain": [
       "array([0.09164265])"
      ]
     },
     "execution_count": 18,
     "metadata": {},
     "output_type": "execute_result"
    }
   ],
   "source": [
    "stdev.values"
   ]
  },
  {
   "cell_type": "code",
   "execution_count": 19,
   "id": "b9699394-0c0b-4ab5-beed-53ee7139865f",
   "metadata": {},
   "outputs": [
    {
     "data": {
      "text/plain": [
       "1.6448536269514722"
      ]
     },
     "execution_count": 19,
     "metadata": {},
     "output_type": "execute_result"
    }
   ],
   "source": [
    "# norm.ppf(confidence value) calculates the z-score.\n",
    "norm.ppf(0.95)"
   ]
  },
  {
   "cell_type": "code",
   "execution_count": 20,
   "id": "1155edd4-9bea-4588-a452-bcc482558d5b",
   "metadata": {},
   "outputs": [
    {
     "data": {
      "text/plain": [
       "array([[0.89830496, 0.58235514],\n",
       "       [0.16275816, 0.54815819],\n",
       "       [0.90081809, 0.02767583],\n",
       "       [0.46985247, 0.73135853],\n",
       "       [0.3685058 , 0.01442448],\n",
       "       [0.58868693, 0.97557322],\n",
       "       [0.76341503, 0.17960892],\n",
       "       [0.3102711 , 0.72748945],\n",
       "       [0.30055684, 0.54751711],\n",
       "       [0.29496444, 0.79639637]])"
      ]
     },
     "execution_count": 20,
     "metadata": {},
     "output_type": "execute_result"
    }
   ],
   "source": [
    "x = np.random.rand(10, 2)\n",
    "x"
   ]
  },
  {
   "cell_type": "code",
   "execution_count": 21,
   "id": "c621c083-2b0a-49b2-961b-86f1b375f58d",
   "metadata": {},
   "outputs": [
    {
     "data": {
      "text/plain": [
       "array([[ 1.27195229,  0.20792219],\n",
       "       [-0.98318514,  0.12100937],\n",
       "       [ 1.28622711, -1.91610551],\n",
       "       [-0.07564073,  0.61692689],\n",
       "       [-0.33581337, -2.18554438],\n",
       "       [ 0.22416857,  1.96986746],\n",
       "       [ 0.71733092, -0.91685651],\n",
       "       [-0.49508207,  0.60523764],\n",
       "       [-0.52279965,  0.11939076],\n",
       "       [-0.53893911,  0.82881824]])"
      ]
     },
     "execution_count": 21,
     "metadata": {},
     "output_type": "execute_result"
    }
   ],
   "source": [
    "norm.ppf(x)"
   ]
  },
  {
   "cell_type": "code",
   "execution_count": 22,
   "id": "5a02b380-ebe1-4259-8096-506a741d0e21",
   "metadata": {},
   "outputs": [
    {
     "data": {
      "text/plain": [
       "array([[ 0.40239752,  0.17751925],\n",
       "       [-1.56299701,  0.27946225],\n",
       "       [-0.19277863,  0.51494427],\n",
       "       [-0.522028  ,  1.494776  ],\n",
       "       [-1.32987399,  0.12523094],\n",
       "       [-0.87658645,  0.52319358],\n",
       "       [-0.97556364,  1.85534003],\n",
       "       [-0.58278137, -0.52692872],\n",
       "       [-1.56703193,  0.93448241],\n",
       "       [-1.523178  ,  0.99411008]])"
      ]
     },
     "execution_count": 22,
     "metadata": {},
     "output_type": "execute_result"
    }
   ],
   "source": [
    "# Using the poweful norm.ppf function, we can also create z-scores of random numbers and arrange them into a marix \n",
    "# with the dimensions of our choice.\n",
    "Z = norm.ppf(np.random.rand(10,2))\n",
    "Z"
   ]
  },
  {
   "cell_type": "code",
   "execution_count": 23,
   "id": "b90ffc27-79a9-4702-9af5-85120e498e0b",
   "metadata": {},
   "outputs": [],
   "source": [
    "# We now create two variables, one that stores the number of forecast days and another that create the number of\n",
    "# possible paths that MATIC-USD prices might take.\n",
    "t_intervals = 180\n",
    "iterations = 5\n",
    "\n",
    "# daily returns can be forecast using the equation we had defined earlier.\n",
    "daily_returns = np.exp(drift.values + stdev.values * norm.ppf(np.random.rand(t_intervals, iterations)))"
   ]
  },
  {
   "cell_type": "code",
   "execution_count": 24,
   "id": "b5e61527-b5bc-41b9-91b6-a313faecbbf8",
   "metadata": {},
   "outputs": [
    {
     "data": {
      "text/plain": [
       "array([[0.94557009, 0.8851866 , 1.00942481, 1.00580257, 1.01559157],\n",
       "       [0.80745125, 1.02198713, 0.93418401, 1.21845945, 1.03609211],\n",
       "       [0.86057456, 1.05448674, 1.02171647, 0.81796418, 0.93882504],\n",
       "       [0.99331189, 1.19782582, 0.92641794, 1.16277774, 1.00715342],\n",
       "       [0.95971806, 0.95301619, 1.0120853 , 0.93928075, 1.01210214],\n",
       "       [0.89951529, 0.93060378, 0.78481887, 1.10508584, 0.97542399],\n",
       "       [1.09658367, 0.973365  , 0.94776513, 1.14461882, 0.97039326],\n",
       "       [1.00332559, 1.16094242, 1.02525568, 0.89876071, 1.10532603],\n",
       "       [0.97135604, 1.19949166, 1.05645344, 0.92440186, 0.83949909],\n",
       "       [0.95253376, 0.95262904, 1.02367389, 0.93287777, 1.12145204],\n",
       "       [1.04956486, 0.9435751 , 1.17348208, 0.95288336, 0.92468948],\n",
       "       [0.99827138, 1.08883643, 1.1561581 , 1.02074347, 0.92420783],\n",
       "       [0.94073652, 1.06173263, 1.13596022, 0.94489092, 1.05733155],\n",
       "       [0.9834764 , 1.08690996, 0.97806503, 1.13730336, 0.85572761],\n",
       "       [0.94038448, 1.01030299, 1.08082899, 0.91541416, 0.9711132 ],\n",
       "       [0.85826735, 1.09270375, 1.02218386, 1.04117452, 0.93359559],\n",
       "       [1.0608808 , 0.85557026, 0.88130015, 1.02473683, 0.83310543],\n",
       "       [1.07629256, 0.99533699, 1.05313184, 0.9903547 , 0.92500053],\n",
       "       [1.04475803, 1.02159264, 1.13035327, 0.90664973, 1.03846039],\n",
       "       [0.93733814, 0.99633683, 1.01718363, 0.98015444, 1.10184434],\n",
       "       [0.87781183, 1.09181029, 1.06971605, 0.92455919, 0.9418429 ],\n",
       "       [1.00233216, 1.06952369, 0.93491533, 1.03289663, 1.10198441],\n",
       "       [0.87088291, 1.03734832, 0.9192073 , 0.83150117, 1.0656756 ],\n",
       "       [1.05268414, 0.73672993, 1.11580872, 0.97284193, 1.06405189],\n",
       "       [0.92520021, 1.04926527, 0.94423667, 0.96415322, 0.90186206],\n",
       "       [1.08434075, 1.04046949, 0.92777354, 0.79346586, 1.03783652],\n",
       "       [0.91780009, 1.0905779 , 1.09647631, 1.02501948, 0.91065504],\n",
       "       [0.92796843, 0.9150454 , 0.9211691 , 1.20656449, 1.00692798],\n",
       "       [1.08500282, 0.99189241, 0.98775231, 1.10644739, 1.15561588],\n",
       "       [1.11877399, 0.96326924, 1.03915909, 1.00548761, 0.85023853],\n",
       "       [1.09426332, 1.06415322, 0.89217002, 0.89337283, 0.91396787],\n",
       "       [1.08709074, 0.99567046, 0.98605107, 1.06238948, 1.07610116],\n",
       "       [1.01708452, 0.92698678, 1.03312695, 1.1093588 , 1.01625032],\n",
       "       [0.99819883, 0.98785012, 1.14353994, 1.15369315, 1.08503267],\n",
       "       [1.02182258, 0.85143432, 1.04229867, 0.95039   , 0.96909384],\n",
       "       [0.9106274 , 1.02489045, 0.98440564, 1.00222775, 0.84624681],\n",
       "       [1.08686488, 0.96700909, 0.93027801, 1.0360626 , 1.03823452],\n",
       "       [0.70727123, 0.86501635, 1.03522828, 0.91123055, 1.07769242],\n",
       "       [1.04865709, 1.01552633, 0.91115625, 0.98634905, 1.02215019],\n",
       "       [0.95046863, 1.00567308, 0.98975185, 0.93918452, 1.02868792],\n",
       "       [0.94940156, 0.92651996, 1.07771682, 1.06376281, 1.05491348],\n",
       "       [0.91306152, 1.07936782, 1.04833914, 0.91969083, 1.0064827 ],\n",
       "       [1.02903515, 1.01262428, 0.89220646, 0.94229483, 1.18657484],\n",
       "       [1.103364  , 0.91565979, 0.9756462 , 1.02498375, 0.90055877],\n",
       "       [1.01097145, 1.02067054, 1.02615437, 0.79652658, 1.05811014],\n",
       "       [0.9782396 , 1.0727582 , 1.08719956, 1.04766546, 0.93533592],\n",
       "       [0.88920719, 0.93784921, 1.02147891, 0.91813123, 1.01762783],\n",
       "       [0.99532298, 0.96251655, 0.80572413, 0.8963502 , 1.04369919],\n",
       "       [1.04480579, 0.97882916, 0.97608898, 0.91296991, 0.97947389],\n",
       "       [1.1333077 , 0.99031484, 0.98272045, 1.0155886 , 0.82178615],\n",
       "       [0.95254018, 1.01326194, 0.95673276, 0.97740079, 1.10286237],\n",
       "       [0.91985511, 0.97611282, 0.82341027, 0.98616586, 0.98792547],\n",
       "       [0.9123633 , 1.00419156, 1.00687348, 1.0195491 , 0.92221702],\n",
       "       [0.89071823, 1.05295188, 1.09314954, 0.95102762, 0.91709482],\n",
       "       [0.96293492, 0.94634668, 0.91185459, 1.07776342, 1.00859781],\n",
       "       [1.0158329 , 0.8807087 , 0.7983607 , 1.01550448, 0.99019833],\n",
       "       [0.93246564, 0.91292459, 0.9255183 , 1.07548844, 0.8925055 ],\n",
       "       [0.95536271, 1.01571495, 1.13358017, 1.11224024, 1.01705911],\n",
       "       [0.78933664, 0.98795095, 1.03668843, 1.01811958, 0.89992884],\n",
       "       [0.89911348, 0.89167503, 1.02046246, 0.99530532, 0.93407101],\n",
       "       [1.07676419, 1.11759994, 1.09633167, 0.85848475, 1.10895709],\n",
       "       [0.9568663 , 1.03964773, 0.96821696, 1.03973533, 1.14636912],\n",
       "       [1.00858986, 1.16324833, 1.04585989, 1.04277215, 0.97668515],\n",
       "       [0.98563432, 0.97347907, 0.92720171, 0.99375426, 0.94269958],\n",
       "       [1.18056637, 0.88437376, 0.96610221, 1.06208414, 0.94943954],\n",
       "       [0.95665828, 0.92926681, 1.03117295, 1.03628871, 1.08511129],\n",
       "       [1.06232623, 1.0032779 , 1.05392426, 1.0170982 , 0.86726759],\n",
       "       [0.95477732, 1.19147177, 1.02487793, 1.05938092, 0.90000687],\n",
       "       [1.05952436, 0.90241179, 1.03198361, 0.97803839, 1.06693508],\n",
       "       [0.9249437 , 1.12755077, 0.99396238, 0.94170045, 0.93137368],\n",
       "       [0.97398923, 0.98770511, 1.01656773, 0.99524427, 0.9408508 ],\n",
       "       [0.92792603, 1.09784094, 0.99397616, 0.99010669, 0.88174466],\n",
       "       [1.05809023, 0.95374399, 0.93346382, 1.01653354, 0.84690056],\n",
       "       [0.97654818, 0.8828332 , 1.16893533, 0.98687808, 1.16615476],\n",
       "       [1.02676007, 0.8553606 , 0.99550311, 1.14282533, 1.07417152],\n",
       "       [0.98832007, 0.98199028, 1.07954901, 1.00850068, 0.98551857],\n",
       "       [0.99994418, 0.9827046 , 0.9174274 , 0.87552169, 0.9770174 ],\n",
       "       [0.97598797, 0.98775584, 0.88277148, 1.02947556, 0.91645706],\n",
       "       [0.88357237, 0.98414626, 0.88984359, 1.00691785, 0.97140674],\n",
       "       [0.97323214, 1.04269586, 1.03120783, 0.96481339, 0.95117347],\n",
       "       [1.00718634, 1.08229684, 1.0030176 , 1.18363266, 1.05064496],\n",
       "       [0.92266769, 0.87916345, 1.11651969, 0.93173434, 1.05563004],\n",
       "       [0.9814722 , 1.07527134, 1.06187989, 1.01342776, 0.92016112],\n",
       "       [0.9415155 , 1.05949086, 0.98837481, 0.95168334, 0.9812936 ],\n",
       "       [0.92572735, 0.85611859, 0.96642845, 0.9891101 , 0.9040208 ],\n",
       "       [1.10012034, 1.18101605, 1.06679775, 1.035792  , 0.87407399],\n",
       "       [1.19393285, 0.82941085, 0.87740908, 0.94781816, 0.88944359],\n",
       "       [1.20550658, 0.99370035, 1.06548483, 1.01450927, 0.92408518],\n",
       "       [0.95635608, 1.11118207, 0.88100301, 1.12540705, 0.84967968],\n",
       "       [0.98461005, 1.09836908, 0.93756883, 1.09458288, 0.9442138 ],\n",
       "       [1.0792794 , 0.98923773, 1.08962981, 0.96474411, 1.0046274 ],\n",
       "       [1.01454758, 0.91457281, 0.9238273 , 1.01156658, 0.9593468 ],\n",
       "       [0.86991949, 0.99207669, 0.92571187, 1.08745801, 0.98520199],\n",
       "       [1.01373495, 0.99977511, 0.92900067, 0.97766322, 1.08147253],\n",
       "       [0.98588609, 0.90202798, 0.92063633, 1.01185534, 0.76516309],\n",
       "       [0.97556328, 1.03911676, 0.91579387, 1.1269524 , 1.08413894],\n",
       "       [1.10659937, 1.14249271, 1.02100226, 0.96739192, 0.95997438],\n",
       "       [1.02875414, 0.97863194, 1.01082576, 0.91373402, 1.03467503],\n",
       "       [1.06757424, 0.92556435, 0.9114243 , 0.92016451, 0.94714478],\n",
       "       [1.04777574, 0.99670566, 1.02026627, 1.03852994, 1.02074265],\n",
       "       [0.95500603, 1.06393654, 1.11132832, 1.05483116, 1.12143921],\n",
       "       [1.0079983 , 0.94273799, 1.06282846, 0.78414091, 0.9968552 ],\n",
       "       [0.9561652 , 0.9156656 , 1.22394471, 0.9484728 , 0.94145803],\n",
       "       [1.2483758 , 0.98892348, 1.03183784, 0.93046231, 0.98638885],\n",
       "       [0.75720511, 1.04677353, 0.94564095, 1.00114626, 1.16257875],\n",
       "       [1.09443221, 0.89911844, 0.95937046, 1.15986351, 0.91399004],\n",
       "       [1.02059888, 0.83766738, 1.14613108, 0.97316969, 0.85712257],\n",
       "       [1.01508056, 0.92584325, 0.91814444, 0.935783  , 0.995954  ],\n",
       "       [1.02455504, 0.91742143, 0.92281314, 0.92779506, 0.96862725],\n",
       "       [1.1416573 , 0.95701893, 1.14706215, 0.94246826, 1.06247593],\n",
       "       [0.97242822, 0.99644165, 1.1023221 , 1.09516539, 1.09285859],\n",
       "       [0.99773173, 0.96085209, 0.99583822, 0.9631314 , 1.03906675],\n",
       "       [0.89753776, 0.83465506, 0.92884445, 1.25719636, 1.00809124],\n",
       "       [1.10372787, 1.07439051, 0.98083113, 1.23906526, 0.98016536],\n",
       "       [1.00866143, 0.94234517, 1.11140825, 1.03383501, 1.03768725],\n",
       "       [0.98791364, 0.99434305, 1.09551268, 0.78680946, 1.09022449],\n",
       "       [0.96685134, 0.99078132, 1.05671843, 0.97989032, 0.98496918],\n",
       "       [1.04430653, 0.98824199, 0.96209803, 1.0170742 , 1.16235942],\n",
       "       [1.09152561, 0.93550102, 1.00906076, 0.96901698, 1.08574441],\n",
       "       [0.988079  , 1.10430602, 1.02087443, 0.81793838, 0.9141704 ],\n",
       "       [1.17930623, 1.04868514, 0.90692049, 1.12810739, 0.95410597],\n",
       "       [0.89175306, 0.98889141, 1.00123881, 0.93641451, 0.92393335],\n",
       "       [1.14129341, 0.95011899, 1.01865858, 1.00907471, 0.94753584],\n",
       "       [1.05932776, 1.08726371, 1.14590078, 0.95750221, 1.08742157],\n",
       "       [1.06794506, 1.21254775, 1.04356359, 1.15246752, 1.04723132],\n",
       "       [1.23319558, 0.87820016, 0.95277903, 1.05571713, 0.91162402],\n",
       "       [0.88873544, 0.8887519 , 1.23878318, 1.18401295, 0.83464138],\n",
       "       [0.93541322, 1.06265363, 1.00463269, 1.04505356, 1.04829239],\n",
       "       [0.76232854, 1.12524482, 0.91535511, 1.05890414, 0.92042359],\n",
       "       [1.14411925, 0.87119541, 0.93456787, 0.91769656, 0.89706744],\n",
       "       [0.99156139, 1.08208543, 1.05230021, 1.03228578, 1.24036947],\n",
       "       [1.07165992, 0.92880118, 1.05956614, 1.02464229, 1.01380489],\n",
       "       [1.10436198, 1.09325091, 1.0726399 , 1.07424803, 1.06605621],\n",
       "       [0.86506009, 1.05715447, 0.94500075, 1.0370355 , 1.10953056],\n",
       "       [1.0156332 , 1.03867999, 1.09230328, 0.99590233, 1.01518195],\n",
       "       [1.03293876, 1.02347542, 1.15011105, 1.05309759, 1.03147401],\n",
       "       [0.9633611 , 0.91491291, 0.87674128, 1.0121964 , 1.01608573],\n",
       "       [0.87792315, 1.0339981 , 0.94469205, 0.92589763, 0.99370732],\n",
       "       [0.8287818 , 0.94686775, 1.03684351, 0.93883521, 1.00410742],\n",
       "       [1.00781427, 1.12789243, 0.98173498, 0.90958745, 0.90204772],\n",
       "       [1.01732376, 0.92264294, 0.98749706, 1.08902368, 1.06537756],\n",
       "       [0.94878931, 0.91822891, 0.88898111, 1.07273831, 1.0779663 ],\n",
       "       [1.05196104, 1.10879804, 0.96968711, 1.17451033, 0.82688457],\n",
       "       [1.02054475, 0.93560081, 1.0676622 , 0.89130059, 0.9847345 ],\n",
       "       [1.0425556 , 1.10210953, 1.04524716, 1.06767025, 0.89411706],\n",
       "       [0.96460302, 1.0922341 , 1.06671684, 1.03067661, 1.00804316],\n",
       "       [1.1141811 , 1.08782892, 0.98573658, 1.01961654, 1.012396  ],\n",
       "       [0.99697369, 1.09624364, 0.82228853, 0.80461014, 1.02567365],\n",
       "       [0.99409318, 1.00143376, 0.97793951, 1.10908041, 1.06073342],\n",
       "       [1.13072904, 0.88785695, 0.93343   , 1.02613175, 0.94236206],\n",
       "       [1.10154632, 1.02362762, 0.91785828, 1.08080298, 0.98255722],\n",
       "       [0.95519573, 0.96816649, 1.08546568, 1.01554474, 1.14396476],\n",
       "       [1.06259264, 0.97425972, 0.93835888, 0.86539177, 0.86641936],\n",
       "       [1.01482372, 1.02257959, 1.04460697, 0.97246545, 1.13876162],\n",
       "       [0.86985651, 0.90763999, 0.93364328, 1.1966453 , 1.08037761],\n",
       "       [0.93183642, 1.02626039, 0.91623835, 1.06777063, 1.17538856],\n",
       "       [1.10878614, 1.12361836, 0.9526394 , 0.94359142, 1.08833102],\n",
       "       [1.27546335, 1.07042225, 0.99424728, 1.10066357, 0.87214479],\n",
       "       [1.01561856, 1.01301951, 1.18836373, 0.90730077, 0.98159765],\n",
       "       [1.00162844, 1.07747485, 1.00358483, 1.11507944, 0.98277255],\n",
       "       [1.11634257, 1.12277822, 1.20772838, 1.03834912, 1.25592215],\n",
       "       [0.97143686, 0.96833589, 1.13818467, 1.01109299, 0.87912142],\n",
       "       [1.05696327, 0.98092306, 1.02894537, 0.88187836, 1.03151075],\n",
       "       [1.04283891, 0.90807946, 1.12506357, 0.94910732, 0.95619026],\n",
       "       [0.90908514, 0.90579737, 0.9611096 , 0.98769417, 0.92684963],\n",
       "       [0.94884694, 1.07727001, 1.08954417, 0.92640616, 0.95580986],\n",
       "       [0.97415976, 0.9870839 , 0.92990671, 1.01802948, 0.99660028],\n",
       "       [0.85643034, 1.08820517, 0.98538576, 0.96898056, 0.93820627],\n",
       "       [0.92870846, 1.06948803, 1.01765582, 0.88419253, 0.86617761],\n",
       "       [0.9722303 , 0.95825429, 1.02785399, 0.9519716 , 1.05622554],\n",
       "       [0.9977822 , 0.86266243, 1.05998233, 1.11800565, 1.12271823],\n",
       "       [0.974651  , 1.0530132 , 1.02807842, 0.88999901, 0.93565833],\n",
       "       [1.07197554, 1.11308533, 1.00588301, 1.08927051, 1.0158663 ],\n",
       "       [0.93461165, 1.13047329, 1.15973601, 0.96296985, 0.94441274],\n",
       "       [1.03732599, 0.98860809, 1.05722309, 1.15040837, 1.02265522],\n",
       "       [0.95051905, 1.00718111, 0.91688651, 1.06273369, 1.1290309 ],\n",
       "       [0.91360725, 1.14592704, 0.96539463, 1.08780732, 0.93734751],\n",
       "       [0.95417582, 1.00049507, 0.96346021, 1.00147917, 1.02605864],\n",
       "       [0.88817219, 1.02168756, 0.95359043, 0.91882175, 1.17387886],\n",
       "       [1.13797115, 0.9205673 , 0.9787509 , 1.01642712, 0.90887178]])"
      ]
     },
     "execution_count": 24,
     "metadata": {},
     "output_type": "execute_result"
    }
   ],
   "source": [
    "# We now get 5 different series based on the simulation that we have just done.\n",
    "daily_returns"
   ]
  },
  {
   "cell_type": "markdown",
   "id": "ae145139-2c2d-4080-972d-5d8149934e36",
   "metadata": {},
   "source": [
    "***"
   ]
  },
  {
   "cell_type": "markdown",
   "id": "e8abd7ce-58c0-4255-8a0d-9015e19d558e",
   "metadata": {},
   "source": [
    "$$\n",
    "S_t = S_0 \\mathbin{\\cdot} daily\\_return_t\n",
    "$$\n",
    "<br />"
   ]
  },
  {
   "cell_type": "markdown",
   "id": "4a8102f8-3a68-4213-a3c8-a747b439f1da",
   "metadata": {},
   "source": [
    "$$\n",
    "S_{t+1} = S_t \\mathbin{\\cdot} daily\\_return_{t+1}\n",
    "$$\n",
    "\n",
    "<br /> \n",
    "$$...$$\n",
    "<br />  \n",
    "\n",
    "$$\n",
    "S_{t+999} = S_{t+998} \\mathbin{\\cdot} daily\\_return_{t+999}\n",
    "$$\n",
    "\n"
   ]
  },
  {
   "cell_type": "code",
   "execution_count": 25,
   "id": "cacde4f7-0b01-4792-ab63-98112c84707d",
   "metadata": {},
   "outputs": [
    {
     "data": {
      "text/plain": [
       "MATIC-USD    1.754877\n",
       "Name: 2021-11-13 00:00:00, dtype: float64"
      ]
     },
     "execution_count": 25,
     "metadata": {},
     "output_type": "execute_result"
    }
   ],
   "source": [
    "# Create a variable that stores the first price of our forecast. This price will be the latest price for the time period\n",
    "# we have taken.\n",
    "S0 = data.iloc[-1]\n",
    "S0"
   ]
  },
  {
   "cell_type": "code",
   "execution_count": 26,
   "id": "cac0051a-6e65-45ab-bb32-3f006bb8c43f",
   "metadata": {},
   "outputs": [],
   "source": [
    "# Create a numpy array with the same dimensions as that of the daily_returns variable.\n",
    "# This is achieved using the zeroes_like function in numpy.\n",
    "price_list = np.zeros_like(daily_returns)"
   ]
  },
  {
   "cell_type": "code",
   "execution_count": 27,
   "id": "17505bc3-4df2-4d5b-9050-a9793b768616",
   "metadata": {},
   "outputs": [
    {
     "data": {
      "text/plain": [
       "array([[0., 0., 0., 0., 0.],\n",
       "       [0., 0., 0., 0., 0.],\n",
       "       [0., 0., 0., 0., 0.],\n",
       "       [0., 0., 0., 0., 0.],\n",
       "       [0., 0., 0., 0., 0.],\n",
       "       [0., 0., 0., 0., 0.],\n",
       "       [0., 0., 0., 0., 0.],\n",
       "       [0., 0., 0., 0., 0.],\n",
       "       [0., 0., 0., 0., 0.],\n",
       "       [0., 0., 0., 0., 0.],\n",
       "       [0., 0., 0., 0., 0.],\n",
       "       [0., 0., 0., 0., 0.],\n",
       "       [0., 0., 0., 0., 0.],\n",
       "       [0., 0., 0., 0., 0.],\n",
       "       [0., 0., 0., 0., 0.],\n",
       "       [0., 0., 0., 0., 0.],\n",
       "       [0., 0., 0., 0., 0.],\n",
       "       [0., 0., 0., 0., 0.],\n",
       "       [0., 0., 0., 0., 0.],\n",
       "       [0., 0., 0., 0., 0.],\n",
       "       [0., 0., 0., 0., 0.],\n",
       "       [0., 0., 0., 0., 0.],\n",
       "       [0., 0., 0., 0., 0.],\n",
       "       [0., 0., 0., 0., 0.],\n",
       "       [0., 0., 0., 0., 0.],\n",
       "       [0., 0., 0., 0., 0.],\n",
       "       [0., 0., 0., 0., 0.],\n",
       "       [0., 0., 0., 0., 0.],\n",
       "       [0., 0., 0., 0., 0.],\n",
       "       [0., 0., 0., 0., 0.],\n",
       "       [0., 0., 0., 0., 0.],\n",
       "       [0., 0., 0., 0., 0.],\n",
       "       [0., 0., 0., 0., 0.],\n",
       "       [0., 0., 0., 0., 0.],\n",
       "       [0., 0., 0., 0., 0.],\n",
       "       [0., 0., 0., 0., 0.],\n",
       "       [0., 0., 0., 0., 0.],\n",
       "       [0., 0., 0., 0., 0.],\n",
       "       [0., 0., 0., 0., 0.],\n",
       "       [0., 0., 0., 0., 0.],\n",
       "       [0., 0., 0., 0., 0.],\n",
       "       [0., 0., 0., 0., 0.],\n",
       "       [0., 0., 0., 0., 0.],\n",
       "       [0., 0., 0., 0., 0.],\n",
       "       [0., 0., 0., 0., 0.],\n",
       "       [0., 0., 0., 0., 0.],\n",
       "       [0., 0., 0., 0., 0.],\n",
       "       [0., 0., 0., 0., 0.],\n",
       "       [0., 0., 0., 0., 0.],\n",
       "       [0., 0., 0., 0., 0.],\n",
       "       [0., 0., 0., 0., 0.],\n",
       "       [0., 0., 0., 0., 0.],\n",
       "       [0., 0., 0., 0., 0.],\n",
       "       [0., 0., 0., 0., 0.],\n",
       "       [0., 0., 0., 0., 0.],\n",
       "       [0., 0., 0., 0., 0.],\n",
       "       [0., 0., 0., 0., 0.],\n",
       "       [0., 0., 0., 0., 0.],\n",
       "       [0., 0., 0., 0., 0.],\n",
       "       [0., 0., 0., 0., 0.],\n",
       "       [0., 0., 0., 0., 0.],\n",
       "       [0., 0., 0., 0., 0.],\n",
       "       [0., 0., 0., 0., 0.],\n",
       "       [0., 0., 0., 0., 0.],\n",
       "       [0., 0., 0., 0., 0.],\n",
       "       [0., 0., 0., 0., 0.],\n",
       "       [0., 0., 0., 0., 0.],\n",
       "       [0., 0., 0., 0., 0.],\n",
       "       [0., 0., 0., 0., 0.],\n",
       "       [0., 0., 0., 0., 0.],\n",
       "       [0., 0., 0., 0., 0.],\n",
       "       [0., 0., 0., 0., 0.],\n",
       "       [0., 0., 0., 0., 0.],\n",
       "       [0., 0., 0., 0., 0.],\n",
       "       [0., 0., 0., 0., 0.],\n",
       "       [0., 0., 0., 0., 0.],\n",
       "       [0., 0., 0., 0., 0.],\n",
       "       [0., 0., 0., 0., 0.],\n",
       "       [0., 0., 0., 0., 0.],\n",
       "       [0., 0., 0., 0., 0.],\n",
       "       [0., 0., 0., 0., 0.],\n",
       "       [0., 0., 0., 0., 0.],\n",
       "       [0., 0., 0., 0., 0.],\n",
       "       [0., 0., 0., 0., 0.],\n",
       "       [0., 0., 0., 0., 0.],\n",
       "       [0., 0., 0., 0., 0.],\n",
       "       [0., 0., 0., 0., 0.],\n",
       "       [0., 0., 0., 0., 0.],\n",
       "       [0., 0., 0., 0., 0.],\n",
       "       [0., 0., 0., 0., 0.],\n",
       "       [0., 0., 0., 0., 0.],\n",
       "       [0., 0., 0., 0., 0.],\n",
       "       [0., 0., 0., 0., 0.],\n",
       "       [0., 0., 0., 0., 0.],\n",
       "       [0., 0., 0., 0., 0.],\n",
       "       [0., 0., 0., 0., 0.],\n",
       "       [0., 0., 0., 0., 0.],\n",
       "       [0., 0., 0., 0., 0.],\n",
       "       [0., 0., 0., 0., 0.],\n",
       "       [0., 0., 0., 0., 0.],\n",
       "       [0., 0., 0., 0., 0.],\n",
       "       [0., 0., 0., 0., 0.],\n",
       "       [0., 0., 0., 0., 0.],\n",
       "       [0., 0., 0., 0., 0.],\n",
       "       [0., 0., 0., 0., 0.],\n",
       "       [0., 0., 0., 0., 0.],\n",
       "       [0., 0., 0., 0., 0.],\n",
       "       [0., 0., 0., 0., 0.],\n",
       "       [0., 0., 0., 0., 0.],\n",
       "       [0., 0., 0., 0., 0.],\n",
       "       [0., 0., 0., 0., 0.],\n",
       "       [0., 0., 0., 0., 0.],\n",
       "       [0., 0., 0., 0., 0.],\n",
       "       [0., 0., 0., 0., 0.],\n",
       "       [0., 0., 0., 0., 0.],\n",
       "       [0., 0., 0., 0., 0.],\n",
       "       [0., 0., 0., 0., 0.],\n",
       "       [0., 0., 0., 0., 0.],\n",
       "       [0., 0., 0., 0., 0.],\n",
       "       [0., 0., 0., 0., 0.],\n",
       "       [0., 0., 0., 0., 0.],\n",
       "       [0., 0., 0., 0., 0.],\n",
       "       [0., 0., 0., 0., 0.],\n",
       "       [0., 0., 0., 0., 0.],\n",
       "       [0., 0., 0., 0., 0.],\n",
       "       [0., 0., 0., 0., 0.],\n",
       "       [0., 0., 0., 0., 0.],\n",
       "       [0., 0., 0., 0., 0.],\n",
       "       [0., 0., 0., 0., 0.],\n",
       "       [0., 0., 0., 0., 0.],\n",
       "       [0., 0., 0., 0., 0.],\n",
       "       [0., 0., 0., 0., 0.],\n",
       "       [0., 0., 0., 0., 0.],\n",
       "       [0., 0., 0., 0., 0.],\n",
       "       [0., 0., 0., 0., 0.],\n",
       "       [0., 0., 0., 0., 0.],\n",
       "       [0., 0., 0., 0., 0.],\n",
       "       [0., 0., 0., 0., 0.],\n",
       "       [0., 0., 0., 0., 0.],\n",
       "       [0., 0., 0., 0., 0.],\n",
       "       [0., 0., 0., 0., 0.],\n",
       "       [0., 0., 0., 0., 0.],\n",
       "       [0., 0., 0., 0., 0.],\n",
       "       [0., 0., 0., 0., 0.],\n",
       "       [0., 0., 0., 0., 0.],\n",
       "       [0., 0., 0., 0., 0.],\n",
       "       [0., 0., 0., 0., 0.],\n",
       "       [0., 0., 0., 0., 0.],\n",
       "       [0., 0., 0., 0., 0.],\n",
       "       [0., 0., 0., 0., 0.],\n",
       "       [0., 0., 0., 0., 0.],\n",
       "       [0., 0., 0., 0., 0.],\n",
       "       [0., 0., 0., 0., 0.],\n",
       "       [0., 0., 0., 0., 0.],\n",
       "       [0., 0., 0., 0., 0.],\n",
       "       [0., 0., 0., 0., 0.],\n",
       "       [0., 0., 0., 0., 0.],\n",
       "       [0., 0., 0., 0., 0.],\n",
       "       [0., 0., 0., 0., 0.],\n",
       "       [0., 0., 0., 0., 0.],\n",
       "       [0., 0., 0., 0., 0.],\n",
       "       [0., 0., 0., 0., 0.],\n",
       "       [0., 0., 0., 0., 0.],\n",
       "       [0., 0., 0., 0., 0.],\n",
       "       [0., 0., 0., 0., 0.],\n",
       "       [0., 0., 0., 0., 0.],\n",
       "       [0., 0., 0., 0., 0.],\n",
       "       [0., 0., 0., 0., 0.],\n",
       "       [0., 0., 0., 0., 0.],\n",
       "       [0., 0., 0., 0., 0.],\n",
       "       [0., 0., 0., 0., 0.],\n",
       "       [0., 0., 0., 0., 0.],\n",
       "       [0., 0., 0., 0., 0.],\n",
       "       [0., 0., 0., 0., 0.],\n",
       "       [0., 0., 0., 0., 0.],\n",
       "       [0., 0., 0., 0., 0.],\n",
       "       [0., 0., 0., 0., 0.],\n",
       "       [0., 0., 0., 0., 0.],\n",
       "       [0., 0., 0., 0., 0.],\n",
       "       [0., 0., 0., 0., 0.]])"
      ]
     },
     "execution_count": 27,
     "metadata": {},
     "output_type": "execute_result"
    }
   ],
   "source": [
    "price_list"
   ]
  },
  {
   "cell_type": "code",
   "execution_count": 28,
   "id": "97d20c0b-61b0-4f14-9e9a-907e91f8026e",
   "metadata": {},
   "outputs": [
    {
     "data": {
      "text/plain": [
       "array([0., 0., 0., 0., 0.])"
      ]
     },
     "execution_count": 28,
     "metadata": {},
     "output_type": "execute_result"
    }
   ],
   "source": [
    "price_list[0]"
   ]
  },
  {
   "cell_type": "code",
   "execution_count": 29,
   "id": "487ca8a1-f244-45f2-91bd-2abb035c411b",
   "metadata": {},
   "outputs": [
    {
     "data": {
      "text/plain": [
       "array([[1.75487697, 1.75487697, 1.75487697, 1.75487697, 1.75487697],\n",
       "       [0.        , 0.        , 0.        , 0.        , 0.        ],\n",
       "       [0.        , 0.        , 0.        , 0.        , 0.        ],\n",
       "       [0.        , 0.        , 0.        , 0.        , 0.        ],\n",
       "       [0.        , 0.        , 0.        , 0.        , 0.        ],\n",
       "       [0.        , 0.        , 0.        , 0.        , 0.        ],\n",
       "       [0.        , 0.        , 0.        , 0.        , 0.        ],\n",
       "       [0.        , 0.        , 0.        , 0.        , 0.        ],\n",
       "       [0.        , 0.        , 0.        , 0.        , 0.        ],\n",
       "       [0.        , 0.        , 0.        , 0.        , 0.        ],\n",
       "       [0.        , 0.        , 0.        , 0.        , 0.        ],\n",
       "       [0.        , 0.        , 0.        , 0.        , 0.        ],\n",
       "       [0.        , 0.        , 0.        , 0.        , 0.        ],\n",
       "       [0.        , 0.        , 0.        , 0.        , 0.        ],\n",
       "       [0.        , 0.        , 0.        , 0.        , 0.        ],\n",
       "       [0.        , 0.        , 0.        , 0.        , 0.        ],\n",
       "       [0.        , 0.        , 0.        , 0.        , 0.        ],\n",
       "       [0.        , 0.        , 0.        , 0.        , 0.        ],\n",
       "       [0.        , 0.        , 0.        , 0.        , 0.        ],\n",
       "       [0.        , 0.        , 0.        , 0.        , 0.        ],\n",
       "       [0.        , 0.        , 0.        , 0.        , 0.        ],\n",
       "       [0.        , 0.        , 0.        , 0.        , 0.        ],\n",
       "       [0.        , 0.        , 0.        , 0.        , 0.        ],\n",
       "       [0.        , 0.        , 0.        , 0.        , 0.        ],\n",
       "       [0.        , 0.        , 0.        , 0.        , 0.        ],\n",
       "       [0.        , 0.        , 0.        , 0.        , 0.        ],\n",
       "       [0.        , 0.        , 0.        , 0.        , 0.        ],\n",
       "       [0.        , 0.        , 0.        , 0.        , 0.        ],\n",
       "       [0.        , 0.        , 0.        , 0.        , 0.        ],\n",
       "       [0.        , 0.        , 0.        , 0.        , 0.        ],\n",
       "       [0.        , 0.        , 0.        , 0.        , 0.        ],\n",
       "       [0.        , 0.        , 0.        , 0.        , 0.        ],\n",
       "       [0.        , 0.        , 0.        , 0.        , 0.        ],\n",
       "       [0.        , 0.        , 0.        , 0.        , 0.        ],\n",
       "       [0.        , 0.        , 0.        , 0.        , 0.        ],\n",
       "       [0.        , 0.        , 0.        , 0.        , 0.        ],\n",
       "       [0.        , 0.        , 0.        , 0.        , 0.        ],\n",
       "       [0.        , 0.        , 0.        , 0.        , 0.        ],\n",
       "       [0.        , 0.        , 0.        , 0.        , 0.        ],\n",
       "       [0.        , 0.        , 0.        , 0.        , 0.        ],\n",
       "       [0.        , 0.        , 0.        , 0.        , 0.        ],\n",
       "       [0.        , 0.        , 0.        , 0.        , 0.        ],\n",
       "       [0.        , 0.        , 0.        , 0.        , 0.        ],\n",
       "       [0.        , 0.        , 0.        , 0.        , 0.        ],\n",
       "       [0.        , 0.        , 0.        , 0.        , 0.        ],\n",
       "       [0.        , 0.        , 0.        , 0.        , 0.        ],\n",
       "       [0.        , 0.        , 0.        , 0.        , 0.        ],\n",
       "       [0.        , 0.        , 0.        , 0.        , 0.        ],\n",
       "       [0.        , 0.        , 0.        , 0.        , 0.        ],\n",
       "       [0.        , 0.        , 0.        , 0.        , 0.        ],\n",
       "       [0.        , 0.        , 0.        , 0.        , 0.        ],\n",
       "       [0.        , 0.        , 0.        , 0.        , 0.        ],\n",
       "       [0.        , 0.        , 0.        , 0.        , 0.        ],\n",
       "       [0.        , 0.        , 0.        , 0.        , 0.        ],\n",
       "       [0.        , 0.        , 0.        , 0.        , 0.        ],\n",
       "       [0.        , 0.        , 0.        , 0.        , 0.        ],\n",
       "       [0.        , 0.        , 0.        , 0.        , 0.        ],\n",
       "       [0.        , 0.        , 0.        , 0.        , 0.        ],\n",
       "       [0.        , 0.        , 0.        , 0.        , 0.        ],\n",
       "       [0.        , 0.        , 0.        , 0.        , 0.        ],\n",
       "       [0.        , 0.        , 0.        , 0.        , 0.        ],\n",
       "       [0.        , 0.        , 0.        , 0.        , 0.        ],\n",
       "       [0.        , 0.        , 0.        , 0.        , 0.        ],\n",
       "       [0.        , 0.        , 0.        , 0.        , 0.        ],\n",
       "       [0.        , 0.        , 0.        , 0.        , 0.        ],\n",
       "       [0.        , 0.        , 0.        , 0.        , 0.        ],\n",
       "       [0.        , 0.        , 0.        , 0.        , 0.        ],\n",
       "       [0.        , 0.        , 0.        , 0.        , 0.        ],\n",
       "       [0.        , 0.        , 0.        , 0.        , 0.        ],\n",
       "       [0.        , 0.        , 0.        , 0.        , 0.        ],\n",
       "       [0.        , 0.        , 0.        , 0.        , 0.        ],\n",
       "       [0.        , 0.        , 0.        , 0.        , 0.        ],\n",
       "       [0.        , 0.        , 0.        , 0.        , 0.        ],\n",
       "       [0.        , 0.        , 0.        , 0.        , 0.        ],\n",
       "       [0.        , 0.        , 0.        , 0.        , 0.        ],\n",
       "       [0.        , 0.        , 0.        , 0.        , 0.        ],\n",
       "       [0.        , 0.        , 0.        , 0.        , 0.        ],\n",
       "       [0.        , 0.        , 0.        , 0.        , 0.        ],\n",
       "       [0.        , 0.        , 0.        , 0.        , 0.        ],\n",
       "       [0.        , 0.        , 0.        , 0.        , 0.        ],\n",
       "       [0.        , 0.        , 0.        , 0.        , 0.        ],\n",
       "       [0.        , 0.        , 0.        , 0.        , 0.        ],\n",
       "       [0.        , 0.        , 0.        , 0.        , 0.        ],\n",
       "       [0.        , 0.        , 0.        , 0.        , 0.        ],\n",
       "       [0.        , 0.        , 0.        , 0.        , 0.        ],\n",
       "       [0.        , 0.        , 0.        , 0.        , 0.        ],\n",
       "       [0.        , 0.        , 0.        , 0.        , 0.        ],\n",
       "       [0.        , 0.        , 0.        , 0.        , 0.        ],\n",
       "       [0.        , 0.        , 0.        , 0.        , 0.        ],\n",
       "       [0.        , 0.        , 0.        , 0.        , 0.        ],\n",
       "       [0.        , 0.        , 0.        , 0.        , 0.        ],\n",
       "       [0.        , 0.        , 0.        , 0.        , 0.        ],\n",
       "       [0.        , 0.        , 0.        , 0.        , 0.        ],\n",
       "       [0.        , 0.        , 0.        , 0.        , 0.        ],\n",
       "       [0.        , 0.        , 0.        , 0.        , 0.        ],\n",
       "       [0.        , 0.        , 0.        , 0.        , 0.        ],\n",
       "       [0.        , 0.        , 0.        , 0.        , 0.        ],\n",
       "       [0.        , 0.        , 0.        , 0.        , 0.        ],\n",
       "       [0.        , 0.        , 0.        , 0.        , 0.        ],\n",
       "       [0.        , 0.        , 0.        , 0.        , 0.        ],\n",
       "       [0.        , 0.        , 0.        , 0.        , 0.        ],\n",
       "       [0.        , 0.        , 0.        , 0.        , 0.        ],\n",
       "       [0.        , 0.        , 0.        , 0.        , 0.        ],\n",
       "       [0.        , 0.        , 0.        , 0.        , 0.        ],\n",
       "       [0.        , 0.        , 0.        , 0.        , 0.        ],\n",
       "       [0.        , 0.        , 0.        , 0.        , 0.        ],\n",
       "       [0.        , 0.        , 0.        , 0.        , 0.        ],\n",
       "       [0.        , 0.        , 0.        , 0.        , 0.        ],\n",
       "       [0.        , 0.        , 0.        , 0.        , 0.        ],\n",
       "       [0.        , 0.        , 0.        , 0.        , 0.        ],\n",
       "       [0.        , 0.        , 0.        , 0.        , 0.        ],\n",
       "       [0.        , 0.        , 0.        , 0.        , 0.        ],\n",
       "       [0.        , 0.        , 0.        , 0.        , 0.        ],\n",
       "       [0.        , 0.        , 0.        , 0.        , 0.        ],\n",
       "       [0.        , 0.        , 0.        , 0.        , 0.        ],\n",
       "       [0.        , 0.        , 0.        , 0.        , 0.        ],\n",
       "       [0.        , 0.        , 0.        , 0.        , 0.        ],\n",
       "       [0.        , 0.        , 0.        , 0.        , 0.        ],\n",
       "       [0.        , 0.        , 0.        , 0.        , 0.        ],\n",
       "       [0.        , 0.        , 0.        , 0.        , 0.        ],\n",
       "       [0.        , 0.        , 0.        , 0.        , 0.        ],\n",
       "       [0.        , 0.        , 0.        , 0.        , 0.        ],\n",
       "       [0.        , 0.        , 0.        , 0.        , 0.        ],\n",
       "       [0.        , 0.        , 0.        , 0.        , 0.        ],\n",
       "       [0.        , 0.        , 0.        , 0.        , 0.        ],\n",
       "       [0.        , 0.        , 0.        , 0.        , 0.        ],\n",
       "       [0.        , 0.        , 0.        , 0.        , 0.        ],\n",
       "       [0.        , 0.        , 0.        , 0.        , 0.        ],\n",
       "       [0.        , 0.        , 0.        , 0.        , 0.        ],\n",
       "       [0.        , 0.        , 0.        , 0.        , 0.        ],\n",
       "       [0.        , 0.        , 0.        , 0.        , 0.        ],\n",
       "       [0.        , 0.        , 0.        , 0.        , 0.        ],\n",
       "       [0.        , 0.        , 0.        , 0.        , 0.        ],\n",
       "       [0.        , 0.        , 0.        , 0.        , 0.        ],\n",
       "       [0.        , 0.        , 0.        , 0.        , 0.        ],\n",
       "       [0.        , 0.        , 0.        , 0.        , 0.        ],\n",
       "       [0.        , 0.        , 0.        , 0.        , 0.        ],\n",
       "       [0.        , 0.        , 0.        , 0.        , 0.        ],\n",
       "       [0.        , 0.        , 0.        , 0.        , 0.        ],\n",
       "       [0.        , 0.        , 0.        , 0.        , 0.        ],\n",
       "       [0.        , 0.        , 0.        , 0.        , 0.        ],\n",
       "       [0.        , 0.        , 0.        , 0.        , 0.        ],\n",
       "       [0.        , 0.        , 0.        , 0.        , 0.        ],\n",
       "       [0.        , 0.        , 0.        , 0.        , 0.        ],\n",
       "       [0.        , 0.        , 0.        , 0.        , 0.        ],\n",
       "       [0.        , 0.        , 0.        , 0.        , 0.        ],\n",
       "       [0.        , 0.        , 0.        , 0.        , 0.        ],\n",
       "       [0.        , 0.        , 0.        , 0.        , 0.        ],\n",
       "       [0.        , 0.        , 0.        , 0.        , 0.        ],\n",
       "       [0.        , 0.        , 0.        , 0.        , 0.        ],\n",
       "       [0.        , 0.        , 0.        , 0.        , 0.        ],\n",
       "       [0.        , 0.        , 0.        , 0.        , 0.        ],\n",
       "       [0.        , 0.        , 0.        , 0.        , 0.        ],\n",
       "       [0.        , 0.        , 0.        , 0.        , 0.        ],\n",
       "       [0.        , 0.        , 0.        , 0.        , 0.        ],\n",
       "       [0.        , 0.        , 0.        , 0.        , 0.        ],\n",
       "       [0.        , 0.        , 0.        , 0.        , 0.        ],\n",
       "       [0.        , 0.        , 0.        , 0.        , 0.        ],\n",
       "       [0.        , 0.        , 0.        , 0.        , 0.        ],\n",
       "       [0.        , 0.        , 0.        , 0.        , 0.        ],\n",
       "       [0.        , 0.        , 0.        , 0.        , 0.        ],\n",
       "       [0.        , 0.        , 0.        , 0.        , 0.        ],\n",
       "       [0.        , 0.        , 0.        , 0.        , 0.        ],\n",
       "       [0.        , 0.        , 0.        , 0.        , 0.        ],\n",
       "       [0.        , 0.        , 0.        , 0.        , 0.        ],\n",
       "       [0.        , 0.        , 0.        , 0.        , 0.        ],\n",
       "       [0.        , 0.        , 0.        , 0.        , 0.        ],\n",
       "       [0.        , 0.        , 0.        , 0.        , 0.        ],\n",
       "       [0.        , 0.        , 0.        , 0.        , 0.        ],\n",
       "       [0.        , 0.        , 0.        , 0.        , 0.        ],\n",
       "       [0.        , 0.        , 0.        , 0.        , 0.        ],\n",
       "       [0.        , 0.        , 0.        , 0.        , 0.        ],\n",
       "       [0.        , 0.        , 0.        , 0.        , 0.        ],\n",
       "       [0.        , 0.        , 0.        , 0.        , 0.        ],\n",
       "       [0.        , 0.        , 0.        , 0.        , 0.        ],\n",
       "       [0.        , 0.        , 0.        , 0.        , 0.        ],\n",
       "       [0.        , 0.        , 0.        , 0.        , 0.        ],\n",
       "       [0.        , 0.        , 0.        , 0.        , 0.        ],\n",
       "       [0.        , 0.        , 0.        , 0.        , 0.        ],\n",
       "       [0.        , 0.        , 0.        , 0.        , 0.        ]])"
      ]
     },
     "execution_count": 29,
     "metadata": {},
     "output_type": "execute_result"
    }
   ],
   "source": [
    "# Populate the first column with the S0 variable since all 5 iterations will start from the same price.\n",
    "price_list[0] = S0\n",
    "price_list"
   ]
  },
  {
   "cell_type": "code",
   "execution_count": 30,
   "id": "94e4c0b7-5763-42bc-86e3-8c3b79df2425",
   "metadata": {},
   "outputs": [],
   "source": [
    "# Now, using the forecasting equation we had defined earlier, we forecast the rows of each of the columns for the time interval.\n",
    "for t in range(1, t_intervals):\n",
    "    price_list[t] = price_list[t - 1] * daily_returns[t]"
   ]
  },
  {
   "cell_type": "code",
   "execution_count": 31,
   "id": "487ce7ba-d7f5-4f9f-86d5-2e8f81d822cb",
   "metadata": {},
   "outputs": [
    {
     "data": {
      "text/plain": [
       "array([[1.75487697, 1.75487697, 1.75487697, 1.75487697, 1.75487697],\n",
       "       [1.4169776 , 1.79346168, 1.63937801, 2.13824643, 1.81821418],\n",
       "       [1.21941487, 1.89118155, 1.67497951, 1.74900898, 1.706985  ],\n",
       "       [1.21125929, 2.26530609, 1.55173107, 2.0337087 , 1.71919578],\n",
       "       [1.16246741, 2.15887338, 1.57048421, 1.91022343, 1.74000173],\n",
       "       [1.0456572 , 2.00905573, 1.23254564, 2.11096085, 1.69723943],\n",
       "       [1.14665062, 1.95554454, 1.16816378, 2.41624553, 1.64698971],\n",
       "       [1.15046391, 2.27027461, 1.19766656, 2.17162656, 1.82046059],\n",
       "       [1.11751007, 2.72317547, 1.26527896, 2.00745563, 1.52827501],\n",
       "       [1.06446607, 2.59417605, 1.29523303, 1.87271074, 1.71388713],\n",
       "       [1.11722618, 2.44779993, 1.51993276, 1.7844749 , 1.5848134 ],\n",
       "       [1.11529493, 2.66525374, 1.75728257, 1.82149111, 1.46469695],\n",
       "       [1.04919866, 2.82978687, 1.9962031 , 1.72111041, 1.54867029],\n",
       "       [1.03186213, 3.07572353, 1.95241644, 1.95742466, 1.32523993],\n",
       "       [0.97034713, 3.10741268, 2.11022829, 1.79185425, 1.286958  ],\n",
       "       [0.83281727, 3.39548147, 2.15704129, 1.86563299, 1.2014983 ],\n",
       "       [0.88351985, 2.90507296, 1.90100081, 1.91178284, 1.00097476],\n",
       "       [0.95092584, 2.89152656, 2.00200448, 1.89334312, 0.92590219],\n",
       "       [0.99348741, 2.95396226, 2.2629723 , 1.71659903, 0.96151274],\n",
       "       [0.93123364, 2.94314141, 2.30185839, 1.68253216, 1.05943738],\n",
       "       [0.81744791, 3.21335208, 2.46233486, 1.55560058, 0.99782358],\n",
       "       [0.81935433, 3.43675616, 2.30207462, 1.6067746 , 1.09958603],\n",
       "       [0.71356168, 3.56511321, 2.1160838 , 1.33603496, 1.171802  ],\n",
       "       [0.75115506, 2.6265256 , 2.36114476, 1.29975082, 1.24685814],\n",
       "       [0.69496882, 2.75592209, 2.22947947, 1.25315894, 1.12449405],\n",
       "       [0.75358301, 2.86745285, 2.06845207, 0.99433883, 1.16704099],\n",
       "       [0.69163856, 3.12718071, 2.26800868, 1.01921667, 1.06277177],\n",
       "       [0.64181875, 2.86151232, 2.08921953, 1.22975064, 1.07013462],\n",
       "       [0.69637515, 2.83831236, 2.06363142, 1.36065439, 1.23666456],\n",
       "       [0.7790864 , 2.73405898, 2.14444136, 1.36812112, 1.05145987],\n",
       "       [0.85252568, 2.90945766, 1.91320629, 1.22224223, 0.96100053],\n",
       "       [0.92677277, 2.89686106, 1.88651911, 1.29849729, 1.03413379],\n",
       "       [0.94260624, 2.68535192, 1.94901373, 1.4404994 , 1.05093879],\n",
       "       [0.94090845, 2.65272522, 2.22877504, 1.66189428, 1.14030293],\n",
       "       [0.9614415 , 2.25862129, 2.32304926, 1.5794477 , 1.10506054],\n",
       "       [0.87551497, 2.3148394 , 2.2868228 , 1.58296632, 0.93515395],\n",
       "       [0.95156648, 2.23847075, 2.12738096, 1.64005219, 0.97090911],\n",
       "       [0.6730156 , 1.9363138 , 2.20232493, 1.49446566, 1.04634139],\n",
       "       [0.70576258, 1.96637764, 2.00666213, 1.47406478, 1.06951806],\n",
       "       [0.67080519, 1.97753306, 1.98609755, 1.38441882, 1.1002003 ],\n",
       "       [0.63686349, 1.83222386, 2.14045073, 1.47269325, 1.16061613],\n",
       "       [0.58149555, 1.97764348, 2.24391827, 1.35442248, 1.16814006],\n",
       "       [0.59837936, 2.0026098 , 2.00203837, 1.27626531, 1.3860856 ],\n",
       "       [0.66023025, 1.83370926, 1.95328114, 1.30815119, 1.24825155],\n",
       "       [0.66747393, 1.87161303, 2.00436797, 1.0419772 , 1.32078762],\n",
       "       [0.65294943, 2.00778823, 2.17914797, 1.09164352, 1.2353801 ],\n",
       "       [0.58060733, 1.88300261, 2.2259537 , 1.00227201, 1.25715718],\n",
       "       [0.57789182, 1.81242118, 1.79350462, 0.89838671, 1.31209393],\n",
       "       [0.60378471, 1.77405069, 1.75062009, 0.82020003, 1.28516175],\n",
       "       [0.68427387, 1.75686873, 1.72037016, 0.83298581, 1.05612813],\n",
       "       [0.65179835, 1.78016822, 1.6459345 , 0.81416098, 1.16476397],\n",
       "       [0.59956005, 1.73764501, 1.35527936, 0.80289776, 1.15069999],\n",
       "       [0.54701658, 1.74492845, 1.36459485, 0.81859369, 1.06119512],\n",
       "       [0.48723764, 1.83732569, 1.49170624, 0.77850521, 0.97321655],\n",
       "       [0.46917814, 1.73874707, 1.36021918, 0.83904444, 0.98158408],\n",
       "       [0.47660659, 1.53132967, 1.08594554, 0.85205339, 0.97196291],\n",
       "       [0.44441927, 1.39798852, 1.00506247, 0.91637357, 0.86748224],\n",
       "       [0.4245816 , 1.41995784, 1.13931889, 1.01922756, 0.88228071],\n",
       "       [0.33513781, 1.4028487 , 1.18111871, 1.03769553, 0.79398986],\n",
       "       [0.30132693, 1.25088515, 1.2052873 , 1.03282389, 0.74164291],\n",
       "       [0.32445805, 1.39798917, 1.32139464, 0.88666356, 0.82245016],\n",
       "       [0.31046297, 1.45341627, 1.2793967 , 0.92189543, 0.94283146],\n",
       "       [0.3131298 , 1.69068405, 1.33806969, 0.96132688, 0.92084949],\n",
       "       [0.30863148, 1.64584553, 1.24066051, 0.95532268, 0.86808443],\n",
       "       [0.36435995, 1.45554261, 1.19860486, 1.01463307, 0.82419368],\n",
       "       [0.34856796, 1.35258744, 1.23596892, 1.0514528 , 0.89434187],\n",
       "       [0.37029289, 1.35702108, 1.30261763, 1.06943074, 0.77563372],\n",
       "       [0.35354725, 1.61685231, 1.33502406, 1.13293452, 0.69807567],\n",
       "       [0.37459192, 1.45906658, 1.37772295, 1.10805346, 0.74480143],\n",
       "       [0.34647644, 1.64517165, 1.36940478, 1.04345444, 0.69368845],\n",
       "       [0.33746432, 1.62494444, 1.39209271, 1.03849206, 0.65265733],\n",
       "       [0.31314193, 1.78393053, 1.38370697, 1.02821794, 0.57547712],\n",
       "       [0.33133242, 1.70141303, 1.29164039, 1.04521802, 0.48737189],\n",
       "       [0.32356207, 1.50206391, 1.50984408, 1.03150276, 0.56835105],\n",
       "       [0.33222061, 1.28480629, 1.50305448, 1.17882747, 0.61050651],\n",
       "       [0.3283403 , 1.2616673 , 1.62262097, 1.18884831, 0.6016655 ],\n",
       "       [0.32832197, 1.23984625, 1.48863694, 1.04086248, 0.58783766],\n",
       "       [0.32043829, 1.22466538, 1.31412623, 1.07154249, 0.53872798],\n",
       "       [0.28313042, 1.20524985, 1.1693668 , 1.07895526, 0.52332399],\n",
       "       [0.27555163, 1.25670903, 1.20586019, 1.04099049, 0.4977719 ],\n",
       "       [0.27753183, 1.36013222, 1.20949899, 1.23215034, 0.52298153],\n",
       "       [0.25606966, 1.19577853, 1.35042944, 1.14803679, 0.55207502],\n",
       "       [0.25132525, 1.28578639, 1.43399386, 1.16345235, 0.50799797],\n",
       "       [0.23662662, 1.36227892, 1.41732341, 1.10723821, 0.49849515],\n",
       "       [0.21905173, 1.16627232, 1.36974166, 1.0951805 , 0.45064999],\n",
       "       [0.24098326, 1.37738632, 1.46123732, 1.1343792 , 0.39390143],\n",
       "       [0.28771784, 1.14241916, 1.28210289, 1.0751852 , 0.3503531 ],\n",
       "       [0.34684574, 1.13522232, 1.36606118, 1.09078536, 0.32375611],\n",
       "       [0.33170803, 1.26143868, 1.20350402, 1.22757753, 0.27508899],\n",
       "       [0.32660306, 1.38552525, 1.12836785, 1.34368535, 0.25974282],\n",
       "       [0.35249596, 1.37061385, 1.22950324, 1.29631252, 0.26094475],\n",
       "       [0.35762392, 1.25352616, 1.13584865, 1.31130642, 0.25033651],\n",
       "       [0.31110402, 1.24359408, 1.05146858, 1.42599067, 0.24663203],\n",
       "       [0.31537702, 1.2433144 , 0.97681502, 1.39413863, 0.26672577],\n",
       "       [0.31092582, 1.12150438, 0.89929139, 1.41066662, 0.20408871],\n",
       "       [0.30332781, 1.165374  , 0.82356555, 1.58975413, 0.22126052],\n",
       "       [0.33566236, 1.3314313 , 0.84086228, 1.5379153 , 0.21240443],\n",
       "       [0.34531405, 1.30298119, 0.84996526, 1.40524553, 0.21976956],\n",
       "       [0.36864838, 1.20599293, 0.77467899, 1.29305707, 0.20815359],\n",
       "       [0.38626083, 1.20201998, 0.79037885, 1.34287847, 0.21247125],\n",
       "       [0.36888142, 1.27887297, 0.8783704 , 1.41651006, 0.23827359],\n",
       "       [0.37183185, 1.20564213, 0.93355705, 1.11074349, 0.23752426],\n",
       "       [0.35553268, 1.10396503, 1.14262222, 1.05350999, 0.22361913],\n",
       "       [0.44383839, 1.09173694, 1.17900083, 0.98025133, 0.22057541],\n",
       "       [0.33607669, 1.14280133, 1.11491147, 0.98137496, 0.25643629],\n",
       "       [0.36781316, 1.02751375, 1.06961313, 1.138261  , 0.23438021],\n",
       "       [0.3753897 , 0.86071475, 1.22591685, 1.1077211 , 0.20089257],\n",
       "       [0.38105078, 0.79688694, 1.12556873, 1.03658658, 0.20007976],\n",
       "       [0.3904075 , 0.73108116, 1.03868961, 0.96173991, 0.19380271],\n",
       "       [0.44571157, 0.69965851, 1.19144155, 0.90640934, 0.20591071],\n",
       "       [0.43342251, 0.69716888, 1.31335235, 0.99266814, 0.22503129],\n",
       "       [0.43243939, 0.66987618, 1.30788647, 0.95606985, 0.23382253],\n",
       "       [0.38813068, 0.55911554, 1.2148231 , 1.20196753, 0.23571444],\n",
       "       [0.42839065, 0.60070843, 1.19153631, 1.48931621, 0.23103913],\n",
       "       [0.43210113, 0.56607469, 1.32428329, 1.53970724, 0.23974636],\n",
       "       [0.42687859, 0.56287244, 1.45076914, 1.21145623, 0.26137736],\n",
       "       [0.41272814, 0.5576835 , 1.5330545 , 1.18709424, 0.25744864],\n",
       "       [0.43101469, 0.55112625, 1.47494871, 1.20736292, 0.29924785],\n",
       "       [0.47046357, 0.51557917, 1.48831287, 1.16995517, 0.32490668],\n",
       "       [0.46485518, 0.56935717, 1.51938056, 0.95695123, 0.29702007],\n",
       "       [0.54820661, 0.59707641, 1.37795736, 1.07954376, 0.28338862],\n",
       "       [0.48886492, 0.59044373, 1.37966438, 1.01090044, 0.2618322 ],\n",
       "       [0.55793831, 0.5609918 , 1.40540696, 1.02007406, 0.24809539],\n",
       "       [0.59103954, 0.60994603, 1.61045693, 0.97672317, 0.26978428],\n",
       "       [0.63119776, 0.73958868, 1.68061422, 1.12564173, 0.28252655],\n",
       "       [0.77839029, 0.6495069 , 1.60125397, 1.18835926, 0.25755799],\n",
       "       [0.69178303, 0.57725049, 1.9836065 , 1.40703276, 0.21496855],\n",
       "       [0.647103  , 0.61341733, 1.99279593, 1.47042459, 0.2253499 ],\n",
       "       [0.49330509, 0.69024467, 1.82411593, 1.55703868, 0.20741736],\n",
       "       [0.56439984, 0.60133799, 1.70476015, 1.42888905, 0.18606736],\n",
       "       [0.55963709, 0.65069908, 1.79391947, 1.47502184, 0.23079228],\n",
       "       [0.59974064, 0.60437007, 1.90077632, 1.51136976, 0.23397834],\n",
       "       [0.66233076, 0.66072813, 2.03884853, 1.62358599, 0.24943406],\n",
       "       [0.57295591, 0.69849169, 1.92671338, 1.68371631, 0.27675471],\n",
       "       [0.58191304, 0.72550934, 2.10455534, 1.676817  , 0.28095639],\n",
       "       [0.60108054, 0.74254098, 2.42047234, 1.76585194, 0.28979921],\n",
       "       [0.57905761, 0.67936033, 2.12212803, 1.78738898, 0.29446084],\n",
       "       [0.50836808, 0.70245729, 2.00475748, 1.65493922, 0.2926079 ],\n",
       "       [0.42132622, 0.66513416, 2.07861979, 1.55371521, 0.29380976],\n",
       "       [0.42461857, 0.75019978, 2.04065376, 1.41323986, 0.26503042],\n",
       "       [0.43197456, 0.69216652, 2.01513959, 1.53905168, 0.28235746],\n",
       "       [0.40985285, 0.63556731, 1.79142103, 1.65099969, 0.30437183],\n",
       "       [0.43114923, 0.70471579, 1.73711788, 1.9391162 , 0.25168037],\n",
       "       [0.44000708, 0.65933266, 1.8546551 , 1.7283354 , 0.24783834],\n",
       "       [0.45873185, 0.72665681, 1.93857298, 1.8452923 , 0.22159649],\n",
       "       [0.44249413, 0.79367935, 2.06790845, 1.90189961, 0.22337883],\n",
       "       [0.49301859, 0.86338735, 2.03841299, 1.93920829, 0.22614783],\n",
       "       [0.49152656, 0.94648289, 1.67616362, 1.56030665, 0.23195387],\n",
       "       [0.4886232 , 0.94783992, 1.63918664, 1.73050554, 0.24604122],\n",
       "       [0.55250045, 0.84154626, 1.53006599, 1.77572668, 0.23185991],\n",
       "       [0.60860484, 0.86143   , 1.40438374, 1.91921068, 0.22781563],\n",
       "       [0.58133674, 0.83400766, 1.52441036, 1.94904431, 0.26061305],\n",
       "       [0.61772415, 0.81254006, 1.430444  , 1.68668691, 0.2258002 ],\n",
       "       [0.62688112, 0.83088688, 1.49425178, 1.64024475, 0.2571326 ],\n",
       "       [0.54529662, 0.75414616, 1.39509813, 1.96279118, 0.2778003 ],\n",
       "       [0.50812725, 0.77395033, 1.2782424 , 2.09581077, 0.3265233 ],\n",
       "       [0.56340445, 0.8696248 , 1.21770407, 1.97758906, 0.35536543],\n",
       "       [0.71860173, 0.93086574, 1.21069896, 2.17666023, 0.30993011],\n",
       "       [0.72982526, 0.94298516, 1.43875074, 1.97488549, 0.30422667],\n",
       "       [0.73101373, 1.01604279, 1.44390841, 2.20215421, 0.29898562],\n",
       "       [0.81606174, 1.14079072, 1.74384916, 2.28660487, 0.37550266],\n",
       "       [0.79275246, 1.10466859, 1.98482239, 2.31197016, 0.33011243],\n",
       "       [0.83791023, 1.0835949 , 2.04227381, 2.03887646, 0.34051452],\n",
       "       [0.87380539, 0.98399026, 2.29768785, 1.93511257, 0.32559667],\n",
       "       [0.79436349, 0.8912958 , 2.20832986, 1.91129941, 0.30177915],\n",
       "       [0.75372936, 0.96016623, 2.40607293, 1.77063955, 0.28844349],\n",
       "       [0.73425281, 0.94776463, 2.23742337, 1.80256326, 0.28746286],\n",
       "       [0.62883638, 1.03136238, 2.20472513, 1.74664875, 0.26969946],\n",
       "       [0.58400567, 1.10302972, 2.24365137, 1.54437378, 0.23360763],\n",
       "       [0.56778801, 1.05698296, 2.30614601, 1.47019998, 0.24674235],\n",
       "       [0.56652877, 0.91181949, 2.44447401, 1.64369188, 0.27702213],\n",
       "       [0.55216783, 0.96015797, 2.51311097, 1.46288415, 0.25919807],\n",
       "       [0.59191041, 1.06873774, 2.52789563, 1.59347657, 0.26331058],\n",
       "       [0.55320637, 1.20817947, 2.93169159, 1.5344699 , 0.24867387],\n",
       "       [0.57385534, 1.194416  , 3.09945204, 1.76526701, 0.25430763],\n",
       "       [0.54546044, 1.20299323, 2.84184576, 1.87600873, 0.28712117],\n",
       "       [0.49833661, 1.37854247, 2.74350265, 2.04073604, 0.26913231],\n",
       "       [0.47550074, 1.37922495, 2.64325563, 2.04375464, 0.27614554],\n",
       "       [0.42232654, 1.40913698, 2.52058326, 1.87784621, 0.32416141],\n",
       "       [0.48059541, 1.29720543, 2.46702313, 1.90869382, 0.29462116]])"
      ]
     },
     "execution_count": 31,
     "metadata": {},
     "output_type": "execute_result"
    }
   ],
   "source": [
    "price_list"
   ]
  },
  {
   "cell_type": "code",
   "execution_count": 32,
   "id": "716a4c75-afeb-40d9-ae7c-027025de827f",
   "metadata": {},
   "outputs": [
    {
     "data": {
      "text/plain": [
       "[<matplotlib.lines.Line2D at 0x7fd75558e6d0>,\n",
       " <matplotlib.lines.Line2D at 0x7fd75558e730>,\n",
       " <matplotlib.lines.Line2D at 0x7fd75558e850>,\n",
       " <matplotlib.lines.Line2D at 0x7fd75558e970>,\n",
       " <matplotlib.lines.Line2D at 0x7fd75558ea90>]"
      ]
     },
     "execution_count": 32,
     "metadata": {},
     "output_type": "execute_result"
    },
    {
     "data": {
      "image/png": "[encoded data removed]",
      "text/plain": [
       "<Figure size 720x432 with 1 Axes>"
      ]
     },
     "metadata": {
      "needs_background": "light"
     },
     "output_type": "display_data"
    }
   ],
   "source": [
    "# Visualizing the five paths using matplotlib.pyplot\n",
    "plt.figure(figsize=(10,6))\n",
    "plt.ylim((0,5))\n",
    "plt.plot(price_list)"
   ]
  },
  {
   "cell_type": "code",
   "execution_count": 33,
   "id": "ac98e70e-9d51-4112-8004-ca2aa6569b58",
   "metadata": {},
   "outputs": [
    {
     "data": {
      "text/plain": [
       "<AxesSubplot:xlabel='Date'>"
      ]
     },
     "execution_count": 33,
     "metadata": {},
     "output_type": "execute_result"
    },
    {
     "data": {
      "image/png": "[encoded data removed]",
      "text/plain": [
       "<Figure size 720x432 with 1 Axes>"
      ]
     },
     "metadata": {
      "needs_background": "light"
     },
     "output_type": "display_data"
    }
   ],
   "source": [
    "# Now, we can finally compare our simulated paths of MATIC-USD with the path actually taken by it in the next six months.\n",
    "ticker2 = 'MATIC-USD'\n",
    "data2 = pd.DataFrame()\n",
    "data2[ticker2] = wb.DataReader(ticker2, data_source = 'yahoo', start = '2021-11-12', end = '2022-5-12')['Adj Close']\n",
    "data2.plot(figsize=(10,6))"
   ]
  },
  {
   "cell_type": "code",
   "execution_count": null,
   "id": "77e0071e-025f-47c2-884c-58fb769447d4",
   "metadata": {},
   "outputs": [],
   "source": []
  }
 ],
 "metadata": {
  "kernelspec": {
   "display_name": "Python 3 (ipykernel)",
   "language": "python",
   "name": "python3"
  },
  "language_info": {
   "codemirror_mode": {
    "name": "ipython",
    "version": 3
   },
   "file_extension": ".py",
   "mimetype": "text/x-python",
   "name": "python",
   "nbconvert_exporter": "python",
   "pygments_lexer": "ipython3",
   "version": "3.9.7"
  }
 },
 "nbformat": 4,
 "nbformat_minor": 5
}
